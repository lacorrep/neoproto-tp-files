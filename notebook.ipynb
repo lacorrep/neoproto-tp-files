{
 "cells": [
  {
   "cell_type": "code",
   "execution_count": null,
   "id": "73656fee-3dc5-4949-9edf-e313867e5a4b",
   "metadata": {},
   "outputs": [],
   "source": [
    "from pendulum import Simulator, DoublePendulum\n",
    "from IPython.display import HTML\n",
    "import matplotlib\n",
    "import numpy as np\n",
    "\n",
    "matplotlib.rcParams['animation.embed_limit'] = 2**128"
   ]
  },
  {
   "cell_type": "markdown",
   "id": "396f9442-9919-42ac-825e-63a318fc25b8",
   "metadata": {},
   "source": [
    "# TP NeoProto 2024-2025: prototype virtuel d'un pendule double"
   ]
  },
  {
   "cell_type": "code",
   "execution_count": null,
   "id": "63af3685-5a8e-41c3-b54f-c56c26da379c",
   "metadata": {},
   "outputs": [],
   "source": [
    "proto = DoublePendulum(l1=1.0, l2=1.0, m1=1.0, m2=1.0)"
   ]
  },
  {
   "cell_type": "code",
   "execution_count": null,
   "id": "9e605c78-3cc6-4b0d-a82b-8d2f710a3ec9",
   "metadata": {},
   "outputs": [],
   "source": [
    "params = {\n",
    "    \"theta_init\": [np.pi/4, 0.0, np.pi/3, 0.0],\n",
    "    \"time_s\": 15.0,\n",
    "    \"time_step_s\": 0.05\n",
    "}\n",
    "print(params)"
   ]
  },
  {
   "cell_type": "code",
   "execution_count": null,
   "id": "42f63af1-bada-4483-933e-b60274b01c18",
   "metadata": {},
   "outputs": [],
   "source": [
    "sim = Simulator(p=proto, params=params)\n",
    "print(sim.__dict__)"
   ]
  },
  {
   "cell_type": "code",
   "execution_count": null,
   "id": "77e9a46c-686f-4fd8-8a45-cf0daabd3590",
   "metadata": {},
   "outputs": [],
   "source": [
    "sim.run()\n",
    "sim.plot_angles()"
   ]
  },
  {
   "cell_type": "code",
   "execution_count": null,
   "id": "76b568e1-8f2b-40c5-892b-26958fa002a1",
   "metadata": {},
   "outputs": [],
   "source": [
    "sim.plot_trajectory()"
   ]
  },
  {
   "cell_type": "code",
   "execution_count": null,
   "id": "c0e092ac-fb73-4840-990e-15f0b4688fef",
   "metadata": {},
   "outputs": [],
   "source": [
    "sim.plot_portrait_phase()"
   ]
  },
  {
   "cell_type": "code",
   "execution_count": null,
   "id": "681c7a67-d9ee-4af0-88ff-39a6e62ce274",
   "metadata": {},
   "outputs": [],
   "source": [
    "# ATTENTION! La génération de la vidéo peut prendre plusieurs minutes!\n",
    "anim = sim.animate_trajectory()\n",
    "HTML(anim.to_jshtml())"
   ]
  }
 ],
 "metadata": {
  "kernelspec": {
   "display_name": "gmp-kernel",
   "language": "python",
   "name": "gmp-kernel"
  },
  "language_info": {
   "codemirror_mode": {
    "name": "ipython",
    "version": 3
   },
   "file_extension": ".py",
   "mimetype": "text/x-python",
   "name": "python",
   "nbconvert_exporter": "python",
   "pygments_lexer": "ipython3",
   "version": "3.12.8"
  }
 },
 "nbformat": 4,
 "nbformat_minor": 5
}
